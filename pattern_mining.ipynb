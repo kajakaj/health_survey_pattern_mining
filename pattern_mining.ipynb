{
 "cells": [
  {
   "cell_type": "markdown",
   "metadata": {
    "id": "PvpZvFq82z-d"
   },
   "source": [
    "# Pattern mining in *National Health Interview Survey*"
   ]
  },
  {
   "cell_type": "markdown",
   "metadata": {},
   "source": [
    "My goal is to find if there are interesting patterns and rules about occurrence of different medical conditions."
   ]
  },
  {
   "cell_type": "markdown",
   "metadata": {
    "id": "IoAfmA-L73a1"
   },
   "source": [
    "I used a data set available [here](https://www.cdc.gov/nchs/nhis/2020nhis.htm) in the *Sample Adult Interview* tab. The data was collected in 2020 from *National Health Interview Survey*."
   ]
  },
  {
   "cell_type": "markdown",
   "metadata": {
    "id": "FgyRcg-s3VAi"
   },
   "source": [
    "## Preprocessing of the data"
   ]
  },
  {
   "cell_type": "markdown",
   "metadata": {
    "id": "rX71THZK3ca0"
   },
   "source": [
    "### Let's get to know more about the data."
   ]
  },
  {
   "cell_type": "code",
   "execution_count": 1,
   "metadata": {
    "id": "5IzGnWdoY1Na"
   },
   "outputs": [],
   "source": [
    "import pandas as pd\n",
    "import numpy as np\n",
    "from mlxtend.frequent_patterns import apriori, association_rules"
   ]
  },
  {
   "cell_type": "code",
   "execution_count": 2,
   "metadata": {
    "colab": {
     "base_uri": "https://localhost:8080/",
     "height": 317
    },
    "id": "PUU2t7CWY6el",
    "outputId": "dd93b33f-36ec-49ed-e687-2c482b2f7ee2"
   },
   "outputs": [
    {
     "name": "stdout",
     "output_type": "stream",
     "text": [
      "Number of attributes = 617\n"
     ]
    },
    {
     "data": {
      "text/html": [
       "<div>\n",
       "<style scoped>\n",
       "    .dataframe tbody tr th:only-of-type {\n",
       "        vertical-align: middle;\n",
       "    }\n",
       "\n",
       "    .dataframe tbody tr th {\n",
       "        vertical-align: top;\n",
       "    }\n",
       "\n",
       "    .dataframe thead th {\n",
       "        text-align: right;\n",
       "    }\n",
       "</style>\n",
       "<table border=\"1\" class=\"dataframe\">\n",
       "  <thead>\n",
       "    <tr style=\"text-align: right;\">\n",
       "      <th></th>\n",
       "      <th>URBRRL</th>\n",
       "      <th>RATCAT_A</th>\n",
       "      <th>INCGRP_A</th>\n",
       "      <th>INCTCFLG_A</th>\n",
       "      <th>FAMINCTC_A</th>\n",
       "      <th>IMPINCFLG_A</th>\n",
       "      <th>RJWKCLSOFT_A</th>\n",
       "      <th>RJWCLSNOSD_A</th>\n",
       "      <th>RJWRKCLSSD_A</th>\n",
       "      <th>RECJOBSD_A</th>\n",
       "      <th>...</th>\n",
       "      <th>PHSTAT_A</th>\n",
       "      <th>PROXYREL_A</th>\n",
       "      <th>PROXY_A</th>\n",
       "      <th>AVAIL_A</th>\n",
       "      <th>HHSTAT_A</th>\n",
       "      <th>INTV_MON</th>\n",
       "      <th>RECTYPE</th>\n",
       "      <th>WTFA_A</th>\n",
       "      <th>HHX</th>\n",
       "      <th>POVRATTC_A</th>\n",
       "    </tr>\n",
       "  </thead>\n",
       "  <tbody>\n",
       "    <tr>\n",
       "      <th>0</th>\n",
       "      <td>3</td>\n",
       "      <td>14</td>\n",
       "      <td>5</td>\n",
       "      <td>0</td>\n",
       "      <td>100000</td>\n",
       "      <td>0</td>\n",
       "      <td>NaN</td>\n",
       "      <td>NaN</td>\n",
       "      <td>NaN</td>\n",
       "      <td>NaN</td>\n",
       "      <td>...</td>\n",
       "      <td>2</td>\n",
       "      <td>NaN</td>\n",
       "      <td>NaN</td>\n",
       "      <td>1</td>\n",
       "      <td>1</td>\n",
       "      <td>11</td>\n",
       "      <td>10</td>\n",
       "      <td>4526.109</td>\n",
       "      <td>H066706</td>\n",
       "      <td>6.47</td>\n",
       "    </tr>\n",
       "    <tr>\n",
       "      <th>1</th>\n",
       "      <td>3</td>\n",
       "      <td>11</td>\n",
       "      <td>4</td>\n",
       "      <td>0</td>\n",
       "      <td>75000</td>\n",
       "      <td>0</td>\n",
       "      <td>NaN</td>\n",
       "      <td>NaN</td>\n",
       "      <td>NaN</td>\n",
       "      <td>NaN</td>\n",
       "      <td>...</td>\n",
       "      <td>2</td>\n",
       "      <td>NaN</td>\n",
       "      <td>NaN</td>\n",
       "      <td>1</td>\n",
       "      <td>1</td>\n",
       "      <td>8</td>\n",
       "      <td>10</td>\n",
       "      <td>12809.039</td>\n",
       "      <td>H034928</td>\n",
       "      <td>3.64</td>\n",
       "    </tr>\n",
       "    <tr>\n",
       "      <th>2</th>\n",
       "      <td>3</td>\n",
       "      <td>14</td>\n",
       "      <td>4</td>\n",
       "      <td>0</td>\n",
       "      <td>90000</td>\n",
       "      <td>0</td>\n",
       "      <td>NaN</td>\n",
       "      <td>NaN</td>\n",
       "      <td>NaN</td>\n",
       "      <td>NaN</td>\n",
       "      <td>...</td>\n",
       "      <td>3</td>\n",
       "      <td>NaN</td>\n",
       "      <td>NaN</td>\n",
       "      <td>1</td>\n",
       "      <td>1</td>\n",
       "      <td>8</td>\n",
       "      <td>10</td>\n",
       "      <td>10322.534</td>\n",
       "      <td>H018289</td>\n",
       "      <td>6.76</td>\n",
       "    </tr>\n",
       "    <tr>\n",
       "      <th>3</th>\n",
       "      <td>3</td>\n",
       "      <td>11</td>\n",
       "      <td>3</td>\n",
       "      <td>0</td>\n",
       "      <td>65000</td>\n",
       "      <td>0</td>\n",
       "      <td>NaN</td>\n",
       "      <td>NaN</td>\n",
       "      <td>NaN</td>\n",
       "      <td>NaN</td>\n",
       "      <td>...</td>\n",
       "      <td>1</td>\n",
       "      <td>NaN</td>\n",
       "      <td>NaN</td>\n",
       "      <td>1</td>\n",
       "      <td>1</td>\n",
       "      <td>3</td>\n",
       "      <td>10</td>\n",
       "      <td>7743.375</td>\n",
       "      <td>H006876</td>\n",
       "      <td>3.79</td>\n",
       "    </tr>\n",
       "    <tr>\n",
       "      <th>4</th>\n",
       "      <td>3</td>\n",
       "      <td>8</td>\n",
       "      <td>1</td>\n",
       "      <td>0</td>\n",
       "      <td>25762</td>\n",
       "      <td>2</td>\n",
       "      <td>NaN</td>\n",
       "      <td>NaN</td>\n",
       "      <td>NaN</td>\n",
       "      <td>NaN</td>\n",
       "      <td>...</td>\n",
       "      <td>3</td>\n",
       "      <td>NaN</td>\n",
       "      <td>NaN</td>\n",
       "      <td>1</td>\n",
       "      <td>1</td>\n",
       "      <td>6</td>\n",
       "      <td>10</td>\n",
       "      <td>4144.724</td>\n",
       "      <td>H028842</td>\n",
       "      <td>2.10</td>\n",
       "    </tr>\n",
       "  </tbody>\n",
       "</table>\n",
       "<p>5 rows × 617 columns</p>\n",
       "</div>"
      ],
      "text/plain": [
       "   URBRRL  RATCAT_A  INCGRP_A  INCTCFLG_A  FAMINCTC_A  IMPINCFLG_A  \\\n",
       "0       3        14         5           0      100000            0   \n",
       "1       3        11         4           0       75000            0   \n",
       "2       3        14         4           0       90000            0   \n",
       "3       3        11         3           0       65000            0   \n",
       "4       3         8         1           0       25762            2   \n",
       "\n",
       "   RJWKCLSOFT_A  RJWCLSNOSD_A  RJWRKCLSSD_A  RECJOBSD_A  ...  PHSTAT_A  \\\n",
       "0           NaN           NaN           NaN         NaN  ...         2   \n",
       "1           NaN           NaN           NaN         NaN  ...         2   \n",
       "2           NaN           NaN           NaN         NaN  ...         3   \n",
       "3           NaN           NaN           NaN         NaN  ...         1   \n",
       "4           NaN           NaN           NaN         NaN  ...         3   \n",
       "\n",
       "   PROXYREL_A  PROXY_A  AVAIL_A  HHSTAT_A  INTV_MON  RECTYPE     WTFA_A  \\\n",
       "0         NaN      NaN        1         1        11       10   4526.109   \n",
       "1         NaN      NaN        1         1         8       10  12809.039   \n",
       "2         NaN      NaN        1         1         8       10  10322.534   \n",
       "3         NaN      NaN        1         1         3       10   7743.375   \n",
       "4         NaN      NaN        1         1         6       10   4144.724   \n",
       "\n",
       "       HHX  POVRATTC_A  \n",
       "0  H066706        6.47  \n",
       "1  H034928        3.64  \n",
       "2  H018289        6.76  \n",
       "3  H006876        3.79  \n",
       "4  H028842        2.10  \n",
       "\n",
       "[5 rows x 617 columns]"
      ]
     },
     "execution_count": 2,
     "metadata": {},
     "output_type": "execute_result"
    }
   ],
   "source": [
    "data = pd.read_csv('adult20.csv')\n",
    "\n",
    "print('Number of attributes = %d' % (data.shape[1]))\n",
    "\n",
    "data.head()"
   ]
  },
  {
   "cell_type": "markdown",
   "metadata": {
    "id": "2ZQ99kVh6Ygy"
   },
   "source": [
    "### Dimensionality reduction"
   ]
  },
  {
   "cell_type": "markdown",
   "metadata": {
    "id": "tlZGSI7J4PRA"
   },
   "source": [
    "There is a lot of columns. In this example I want to know if there are some interesting rules about occurrence of different conditions, that's why I only picked columns that have answears to the question *Ever been told that you have [name of the condition]?*"
   ]
  },
  {
   "cell_type": "code",
   "execution_count": 3,
   "metadata": {
    "colab": {
     "base_uri": "https://localhost:8080/",
     "height": 224
    },
    "id": "ZdhQKi1_Z1iS",
    "outputId": "7473a57d-d7d3-40a6-8d9c-451ad9d9a3da"
   },
   "outputs": [
    {
     "name": "stdout",
     "output_type": "stream",
     "text": [
      "Number of attributes = 15\n"
     ]
    },
    {
     "data": {
      "text/html": [
       "<div>\n",
       "<style scoped>\n",
       "    .dataframe tbody tr th:only-of-type {\n",
       "        vertical-align: middle;\n",
       "    }\n",
       "\n",
       "    .dataframe tbody tr th {\n",
       "        vertical-align: top;\n",
       "    }\n",
       "\n",
       "    .dataframe thead th {\n",
       "        text-align: right;\n",
       "    }\n",
       "</style>\n",
       "<table border=\"1\" class=\"dataframe\">\n",
       "  <thead>\n",
       "    <tr style=\"text-align: right;\">\n",
       "      <th></th>\n",
       "      <th>HYPEV_A</th>\n",
       "      <th>CHLEV_A</th>\n",
       "      <th>ASEV_A</th>\n",
       "      <th>CANEV_A</th>\n",
       "      <th>DIBEV_A</th>\n",
       "      <th>MIEV_A</th>\n",
       "      <th>ANXEV_A</th>\n",
       "      <th>DEPEV_A</th>\n",
       "      <th>ARTHEV_A</th>\n",
       "      <th>DEMENEV_A</th>\n",
       "      <th>STREV_A</th>\n",
       "      <th>CHDEV_A</th>\n",
       "      <th>KIDWEAKEV_A</th>\n",
       "      <th>HEPEV_A</th>\n",
       "      <th>LIVEREV_A</th>\n",
       "    </tr>\n",
       "  </thead>\n",
       "  <tbody>\n",
       "    <tr>\n",
       "      <th>0</th>\n",
       "      <td>2</td>\n",
       "      <td>2</td>\n",
       "      <td>2</td>\n",
       "      <td>1</td>\n",
       "      <td>2</td>\n",
       "      <td>2</td>\n",
       "      <td>2</td>\n",
       "      <td>2</td>\n",
       "      <td>2</td>\n",
       "      <td>2</td>\n",
       "      <td>2</td>\n",
       "      <td>2</td>\n",
       "      <td>2.0</td>\n",
       "      <td>2.0</td>\n",
       "      <td>2.0</td>\n",
       "    </tr>\n",
       "    <tr>\n",
       "      <th>1</th>\n",
       "      <td>1</td>\n",
       "      <td>2</td>\n",
       "      <td>2</td>\n",
       "      <td>2</td>\n",
       "      <td>2</td>\n",
       "      <td>2</td>\n",
       "      <td>2</td>\n",
       "      <td>2</td>\n",
       "      <td>2</td>\n",
       "      <td>2</td>\n",
       "      <td>2</td>\n",
       "      <td>2</td>\n",
       "      <td>2.0</td>\n",
       "      <td>2.0</td>\n",
       "      <td>2.0</td>\n",
       "    </tr>\n",
       "    <tr>\n",
       "      <th>2</th>\n",
       "      <td>2</td>\n",
       "      <td>1</td>\n",
       "      <td>2</td>\n",
       "      <td>2</td>\n",
       "      <td>2</td>\n",
       "      <td>2</td>\n",
       "      <td>2</td>\n",
       "      <td>2</td>\n",
       "      <td>2</td>\n",
       "      <td>2</td>\n",
       "      <td>2</td>\n",
       "      <td>2</td>\n",
       "      <td>2.0</td>\n",
       "      <td>2.0</td>\n",
       "      <td>2.0</td>\n",
       "    </tr>\n",
       "    <tr>\n",
       "      <th>3</th>\n",
       "      <td>2</td>\n",
       "      <td>2</td>\n",
       "      <td>2</td>\n",
       "      <td>2</td>\n",
       "      <td>2</td>\n",
       "      <td>2</td>\n",
       "      <td>2</td>\n",
       "      <td>2</td>\n",
       "      <td>2</td>\n",
       "      <td>2</td>\n",
       "      <td>2</td>\n",
       "      <td>2</td>\n",
       "      <td>NaN</td>\n",
       "      <td>NaN</td>\n",
       "      <td>NaN</td>\n",
       "    </tr>\n",
       "    <tr>\n",
       "      <th>4</th>\n",
       "      <td>1</td>\n",
       "      <td>2</td>\n",
       "      <td>2</td>\n",
       "      <td>2</td>\n",
       "      <td>2</td>\n",
       "      <td>2</td>\n",
       "      <td>2</td>\n",
       "      <td>1</td>\n",
       "      <td>1</td>\n",
       "      <td>2</td>\n",
       "      <td>2</td>\n",
       "      <td>2</td>\n",
       "      <td>NaN</td>\n",
       "      <td>NaN</td>\n",
       "      <td>NaN</td>\n",
       "    </tr>\n",
       "  </tbody>\n",
       "</table>\n",
       "</div>"
      ],
      "text/plain": [
       "   HYPEV_A  CHLEV_A  ASEV_A  CANEV_A  DIBEV_A  MIEV_A  ANXEV_A  DEPEV_A  \\\n",
       "0        2        2       2        1        2       2        2        2   \n",
       "1        1        2       2        2        2       2        2        2   \n",
       "2        2        1       2        2        2       2        2        2   \n",
       "3        2        2       2        2        2       2        2        2   \n",
       "4        1        2       2        2        2       2        2        1   \n",
       "\n",
       "   ARTHEV_A  DEMENEV_A  STREV_A  CHDEV_A  KIDWEAKEV_A  HEPEV_A  LIVEREV_A  \n",
       "0         2          2        2        2          2.0      2.0        2.0  \n",
       "1         2          2        2        2          2.0      2.0        2.0  \n",
       "2         2          2        2        2          2.0      2.0        2.0  \n",
       "3         2          2        2        2          NaN      NaN        NaN  \n",
       "4         1          2        2        2          NaN      NaN        NaN  "
      ]
     },
     "execution_count": 3,
     "metadata": {},
     "output_type": "execute_result"
    }
   ],
   "source": [
    "data = data[['HYPEV_A',\n",
    "             'CHLEV_A',\n",
    "             'ASEV_A',\n",
    "             'CANEV_A',\n",
    "             'DIBEV_A',\n",
    "             'MIEV_A',\n",
    "             'ANXEV_A',\n",
    "             'DEPEV_A',\n",
    "             'ARTHEV_A',\n",
    "             'DEMENEV_A',\n",
    "             'STREV_A',\n",
    "             'CHDEV_A',\n",
    "             'KIDWEAKEV_A',\n",
    "             'HEPEV_A',\n",
    "             'LIVEREV_A']]\n",
    "print('Number of attributes = %d' % (data.shape[1]))\n",
    "data.head()"
   ]
  },
  {
   "cell_type": "markdown",
   "metadata": {
    "id": "6m5GTHol8zwf"
   },
   "source": [
    "After that I have 15 columns fitted to our problem."
   ]
  },
  {
   "cell_type": "markdown",
   "metadata": {
    "id": "CmN75Tbn6hJP"
   },
   "source": [
    "### Replacing non binary values with NaN"
   ]
  },
  {
   "cell_type": "markdown",
   "metadata": {
    "id": "UzFl73wP39jO"
   },
   "source": [
    "As I know that there can be only two values in the whole data set 1 - corresponding to answer *Yes* and 2 - corresponding to answer *No*, I removed all other values. From the appendix to the dataset I know that values 7, 8, 9 are corresponding to *Refused*, *Not Ascertained* and *Don't Know*. "
   ]
  },
  {
   "cell_type": "code",
   "execution_count": 4,
   "metadata": {
    "colab": {
     "base_uri": "https://localhost:8080/"
    },
    "id": "8gEu96nSqs6U",
    "outputId": "9179c0be-d346-4d70-9f0b-bf614a34635e"
   },
   "outputs": [],
   "source": [
    "data[data > 2] = np.NaN"
   ]
  },
  {
   "cell_type": "markdown",
   "metadata": {
    "id": "4Vj88Sk23sBm"
   },
   "source": [
    "### Renaming columns\n",
    "\n",
    "\n"
   ]
  },
  {
   "cell_type": "code",
   "execution_count": 5,
   "metadata": {
    "colab": {
     "base_uri": "https://localhost:8080/",
     "height": 250
    },
    "id": "cmLDweJol7vE",
    "outputId": "4b45ed19-7575-4cac-bd55-781dbef90632"
   },
   "outputs": [
    {
     "data": {
      "text/html": [
       "<div>\n",
       "<style scoped>\n",
       "    .dataframe tbody tr th:only-of-type {\n",
       "        vertical-align: middle;\n",
       "    }\n",
       "\n",
       "    .dataframe tbody tr th {\n",
       "        vertical-align: top;\n",
       "    }\n",
       "\n",
       "    .dataframe thead th {\n",
       "        text-align: right;\n",
       "    }\n",
       "</style>\n",
       "<table border=\"1\" class=\"dataframe\">\n",
       "  <thead>\n",
       "    <tr style=\"text-align: right;\">\n",
       "      <th></th>\n",
       "      <th>hypertension</th>\n",
       "      <th>cholesterol</th>\n",
       "      <th>asthma</th>\n",
       "      <th>cancer</th>\n",
       "      <th>diabetes</th>\n",
       "      <th>heart_attack</th>\n",
       "      <th>anxiety</th>\n",
       "      <th>depression</th>\n",
       "      <th>arthritis</th>\n",
       "      <th>dementia</th>\n",
       "      <th>stroke</th>\n",
       "      <th>heart disease</th>\n",
       "      <th>failing kidneys</th>\n",
       "      <th>hepatitis</th>\n",
       "      <th>liver condition</th>\n",
       "    </tr>\n",
       "  </thead>\n",
       "  <tbody>\n",
       "    <tr>\n",
       "      <th>0</th>\n",
       "      <td>2.0</td>\n",
       "      <td>2.0</td>\n",
       "      <td>2.0</td>\n",
       "      <td>1.0</td>\n",
       "      <td>2.0</td>\n",
       "      <td>2.0</td>\n",
       "      <td>2.0</td>\n",
       "      <td>2.0</td>\n",
       "      <td>2.0</td>\n",
       "      <td>2.0</td>\n",
       "      <td>2.0</td>\n",
       "      <td>2.0</td>\n",
       "      <td>2.0</td>\n",
       "      <td>2.0</td>\n",
       "      <td>2.0</td>\n",
       "    </tr>\n",
       "    <tr>\n",
       "      <th>1</th>\n",
       "      <td>1.0</td>\n",
       "      <td>2.0</td>\n",
       "      <td>2.0</td>\n",
       "      <td>2.0</td>\n",
       "      <td>2.0</td>\n",
       "      <td>2.0</td>\n",
       "      <td>2.0</td>\n",
       "      <td>2.0</td>\n",
       "      <td>2.0</td>\n",
       "      <td>2.0</td>\n",
       "      <td>2.0</td>\n",
       "      <td>2.0</td>\n",
       "      <td>2.0</td>\n",
       "      <td>2.0</td>\n",
       "      <td>2.0</td>\n",
       "    </tr>\n",
       "    <tr>\n",
       "      <th>2</th>\n",
       "      <td>2.0</td>\n",
       "      <td>1.0</td>\n",
       "      <td>2.0</td>\n",
       "      <td>2.0</td>\n",
       "      <td>2.0</td>\n",
       "      <td>2.0</td>\n",
       "      <td>2.0</td>\n",
       "      <td>2.0</td>\n",
       "      <td>2.0</td>\n",
       "      <td>2.0</td>\n",
       "      <td>2.0</td>\n",
       "      <td>2.0</td>\n",
       "      <td>2.0</td>\n",
       "      <td>2.0</td>\n",
       "      <td>2.0</td>\n",
       "    </tr>\n",
       "    <tr>\n",
       "      <th>3</th>\n",
       "      <td>2.0</td>\n",
       "      <td>2.0</td>\n",
       "      <td>2.0</td>\n",
       "      <td>2.0</td>\n",
       "      <td>2.0</td>\n",
       "      <td>2.0</td>\n",
       "      <td>2.0</td>\n",
       "      <td>2.0</td>\n",
       "      <td>2.0</td>\n",
       "      <td>2.0</td>\n",
       "      <td>2.0</td>\n",
       "      <td>2.0</td>\n",
       "      <td>NaN</td>\n",
       "      <td>NaN</td>\n",
       "      <td>NaN</td>\n",
       "    </tr>\n",
       "    <tr>\n",
       "      <th>4</th>\n",
       "      <td>1.0</td>\n",
       "      <td>2.0</td>\n",
       "      <td>2.0</td>\n",
       "      <td>2.0</td>\n",
       "      <td>2.0</td>\n",
       "      <td>2.0</td>\n",
       "      <td>2.0</td>\n",
       "      <td>1.0</td>\n",
       "      <td>1.0</td>\n",
       "      <td>2.0</td>\n",
       "      <td>2.0</td>\n",
       "      <td>2.0</td>\n",
       "      <td>NaN</td>\n",
       "      <td>NaN</td>\n",
       "      <td>NaN</td>\n",
       "    </tr>\n",
       "  </tbody>\n",
       "</table>\n",
       "</div>"
      ],
      "text/plain": [
       "   hypertension  cholesterol  asthma  cancer  diabetes  heart_attack  anxiety  \\\n",
       "0           2.0          2.0     2.0     1.0       2.0           2.0      2.0   \n",
       "1           1.0          2.0     2.0     2.0       2.0           2.0      2.0   \n",
       "2           2.0          1.0     2.0     2.0       2.0           2.0      2.0   \n",
       "3           2.0          2.0     2.0     2.0       2.0           2.0      2.0   \n",
       "4           1.0          2.0     2.0     2.0       2.0           2.0      2.0   \n",
       "\n",
       "   depression  arthritis  dementia  stroke  heart disease  failing kidneys  \\\n",
       "0         2.0        2.0       2.0     2.0            2.0              2.0   \n",
       "1         2.0        2.0       2.0     2.0            2.0              2.0   \n",
       "2         2.0        2.0       2.0     2.0            2.0              2.0   \n",
       "3         2.0        2.0       2.0     2.0            2.0              NaN   \n",
       "4         1.0        1.0       2.0     2.0            2.0              NaN   \n",
       "\n",
       "   hepatitis  liver condition  \n",
       "0        2.0              2.0  \n",
       "1        2.0              2.0  \n",
       "2        2.0              2.0  \n",
       "3        NaN              NaN  \n",
       "4        NaN              NaN  "
      ]
     },
     "execution_count": 5,
     "metadata": {},
     "output_type": "execute_result"
    }
   ],
   "source": [
    "# the meanings of the data values can be found in the codebook from the NHIS\n",
    "# https://ftp.cdc.gov/pub/Health_Statistics/NCHS/Dataset_Documentation/NHIS/2020/adult-codebook.pdf\n",
    "data = data.rename(columns={'HYPEV_A':\"hypertension\",\n",
    "                            'CHLEV_A':'cholesterol',\n",
    "                            'ASEV_A':'asthma',\n",
    "                            'CANEV_A':'cancer',\n",
    "                            'DIBEV_A':'diabetes', \n",
    "                            'MIEV_A':'heart_attack',\n",
    "                            'ANXEV_A':'anxiety', \n",
    "                            'DEPEV_A':'depression',\n",
    "                            'ARTHEV_A': 'arthritis',\n",
    "                            'DEMENEV_A': 'dementia',\n",
    "                            'STREV_A': 'stroke',\n",
    "                            'CHDEV_A': 'heart disease',\n",
    "                            'KIDWEAKEV_A': 'failing kidneys',\n",
    "                            'HEPEV_A': 'hepatitis',\n",
    "                            'LIVEREV_A': 'liver condition'})\n",
    "data.head()"
   ]
  },
  {
   "cell_type": "markdown",
   "metadata": {
    "id": "unPxg-gi6w1Y"
   },
   "source": [
    "### Removing missing data"
   ]
  },
  {
   "cell_type": "code",
   "execution_count": 6,
   "metadata": {
    "colab": {
     "base_uri": "https://localhost:8080/"
    },
    "id": "kF_AUzOzrYME",
    "outputId": "ceeab53a-e655-4348-99c5-1c38df9cd492"
   },
   "outputs": [
    {
     "name": "stdout",
     "output_type": "stream",
     "text": [
      "Number of missing values:\n",
      "\thypertension: 51\n",
      "\tcholesterol: 108\n",
      "\tasthma: 29\n",
      "\tcancer: 34\n",
      "\tdiabetes: 32\n",
      "\theart_attack: 38\n",
      "\tanxiety: 51\n",
      "\tdepression: 56\n",
      "\tarthritis: 43\n",
      "\tdementia: 19\n",
      "\tstroke: 30\n",
      "\theart disease: 81\n",
      "\tfailing kidneys: 13878\n",
      "\thepatitis: 13874\n",
      "\tliver condition: 13874\n"
     ]
    }
   ],
   "source": [
    "print('Number of missing values:')\n",
    "for col in data.columns:\n",
    "    print('\\t%s: %d' % (col, data[col].isna().sum()))"
   ]
  },
  {
   "cell_type": "markdown",
   "metadata": {
    "id": "SCQaQGgj62LC"
   },
   "source": [
    "I decided to replace NaN values with mode of each column."
   ]
  },
  {
   "cell_type": "code",
   "execution_count": 7,
   "metadata": {
    "id": "4n1BNOqErdzn"
   },
   "outputs": [],
   "source": [
    "fill_mode = lambda col: col.fillna(col.mode()[0])\n",
    "data = data.apply(fill_mode, axis=0)"
   ]
  },
  {
   "cell_type": "code",
   "execution_count": 8,
   "metadata": {
    "colab": {
     "base_uri": "https://localhost:8080/"
    },
    "id": "c1EsxZy4r5ED",
    "outputId": "ba8bdcc8-07d9-4e5b-faa0-95b92fa76c74"
   },
   "outputs": [
    {
     "name": "stdout",
     "output_type": "stream",
     "text": [
      "Number of missing values after:\n",
      "\thypertension: 0\n",
      "\tcholesterol: 0\n",
      "\tasthma: 0\n",
      "\tcancer: 0\n",
      "\tdiabetes: 0\n",
      "\theart_attack: 0\n",
      "\tanxiety: 0\n",
      "\tdepression: 0\n",
      "\tarthritis: 0\n",
      "\tdementia: 0\n",
      "\tstroke: 0\n",
      "\theart disease: 0\n",
      "\tfailing kidneys: 0\n",
      "\thepatitis: 0\n",
      "\tliver condition: 0\n"
     ]
    }
   ],
   "source": [
    "print('Number of missing values after:')\n",
    "for col in data.columns:\n",
    "    print('\\t%s: %d' % (col, data[col].isna().sum()))"
   ]
  },
  {
   "cell_type": "markdown",
   "metadata": {
    "id": "Dpo-OosZ68lP"
   },
   "source": [
    "### Removing duplicates"
   ]
  },
  {
   "cell_type": "code",
   "execution_count": 9,
   "metadata": {
    "colab": {
     "base_uri": "https://localhost:8080/"
    },
    "id": "0ynHlIgwr8-7",
    "outputId": "348bc0ea-3089-419e-e13e-63155bdd11b0"
   },
   "outputs": [
    {
     "name": "stdout",
     "output_type": "stream",
     "text": [
      "Number of duplicate rows = 29980\n",
      "Number of rows before discarding duplicates = 31568\n",
      "Number of rows after discarding duplicates = 1588\n"
     ]
    }
   ],
   "source": [
    "dups = data.duplicated()\n",
    "print('Number of duplicate rows = %d' % (dups.sum()))\n",
    "\n",
    "print('Number of rows before discarding duplicates = %d' % (data.shape[0]))\n",
    "data = data.drop_duplicates()\n",
    "print('Number of rows after discarding duplicates = %d' % (data.shape[0]))"
   ]
  },
  {
   "cell_type": "markdown",
   "metadata": {
    "id": "pxtRj1i67DO7"
   },
   "source": [
    "### Replacing *1*, *2* values this *True*, *False*"
   ]
  },
  {
   "cell_type": "markdown",
   "metadata": {
    "id": "nuQfU28yEUX6"
   },
   "source": [
    "This step is required to then apply *Apriori* algorithm."
   ]
  },
  {
   "cell_type": "code",
   "execution_count": 10,
   "metadata": {
    "colab": {
     "base_uri": "https://localhost:8080/",
     "height": 250
    },
    "id": "PC8idpdBsFuG",
    "outputId": "479a9963-c213-40b2-9b0c-1f791e9c4167"
   },
   "outputs": [
    {
     "data": {
      "text/html": [
       "<div>\n",
       "<style scoped>\n",
       "    .dataframe tbody tr th:only-of-type {\n",
       "        vertical-align: middle;\n",
       "    }\n",
       "\n",
       "    .dataframe tbody tr th {\n",
       "        vertical-align: top;\n",
       "    }\n",
       "\n",
       "    .dataframe thead th {\n",
       "        text-align: right;\n",
       "    }\n",
       "</style>\n",
       "<table border=\"1\" class=\"dataframe\">\n",
       "  <thead>\n",
       "    <tr style=\"text-align: right;\">\n",
       "      <th></th>\n",
       "      <th>hypertension</th>\n",
       "      <th>cholesterol</th>\n",
       "      <th>asthma</th>\n",
       "      <th>cancer</th>\n",
       "      <th>diabetes</th>\n",
       "      <th>heart_attack</th>\n",
       "      <th>anxiety</th>\n",
       "      <th>depression</th>\n",
       "      <th>arthritis</th>\n",
       "      <th>dementia</th>\n",
       "      <th>stroke</th>\n",
       "      <th>heart disease</th>\n",
       "      <th>failing kidneys</th>\n",
       "      <th>hepatitis</th>\n",
       "      <th>liver condition</th>\n",
       "    </tr>\n",
       "  </thead>\n",
       "  <tbody>\n",
       "    <tr>\n",
       "      <th>0</th>\n",
       "      <td>False</td>\n",
       "      <td>False</td>\n",
       "      <td>False</td>\n",
       "      <td>True</td>\n",
       "      <td>False</td>\n",
       "      <td>False</td>\n",
       "      <td>False</td>\n",
       "      <td>False</td>\n",
       "      <td>False</td>\n",
       "      <td>False</td>\n",
       "      <td>False</td>\n",
       "      <td>False</td>\n",
       "      <td>False</td>\n",
       "      <td>False</td>\n",
       "      <td>False</td>\n",
       "    </tr>\n",
       "    <tr>\n",
       "      <th>1</th>\n",
       "      <td>True</td>\n",
       "      <td>False</td>\n",
       "      <td>False</td>\n",
       "      <td>False</td>\n",
       "      <td>False</td>\n",
       "      <td>False</td>\n",
       "      <td>False</td>\n",
       "      <td>False</td>\n",
       "      <td>False</td>\n",
       "      <td>False</td>\n",
       "      <td>False</td>\n",
       "      <td>False</td>\n",
       "      <td>False</td>\n",
       "      <td>False</td>\n",
       "      <td>False</td>\n",
       "    </tr>\n",
       "    <tr>\n",
       "      <th>2</th>\n",
       "      <td>False</td>\n",
       "      <td>True</td>\n",
       "      <td>False</td>\n",
       "      <td>False</td>\n",
       "      <td>False</td>\n",
       "      <td>False</td>\n",
       "      <td>False</td>\n",
       "      <td>False</td>\n",
       "      <td>False</td>\n",
       "      <td>False</td>\n",
       "      <td>False</td>\n",
       "      <td>False</td>\n",
       "      <td>False</td>\n",
       "      <td>False</td>\n",
       "      <td>False</td>\n",
       "    </tr>\n",
       "    <tr>\n",
       "      <th>3</th>\n",
       "      <td>False</td>\n",
       "      <td>False</td>\n",
       "      <td>False</td>\n",
       "      <td>False</td>\n",
       "      <td>False</td>\n",
       "      <td>False</td>\n",
       "      <td>False</td>\n",
       "      <td>False</td>\n",
       "      <td>False</td>\n",
       "      <td>False</td>\n",
       "      <td>False</td>\n",
       "      <td>False</td>\n",
       "      <td>False</td>\n",
       "      <td>False</td>\n",
       "      <td>False</td>\n",
       "    </tr>\n",
       "    <tr>\n",
       "      <th>4</th>\n",
       "      <td>True</td>\n",
       "      <td>False</td>\n",
       "      <td>False</td>\n",
       "      <td>False</td>\n",
       "      <td>False</td>\n",
       "      <td>False</td>\n",
       "      <td>False</td>\n",
       "      <td>True</td>\n",
       "      <td>True</td>\n",
       "      <td>False</td>\n",
       "      <td>False</td>\n",
       "      <td>False</td>\n",
       "      <td>False</td>\n",
       "      <td>False</td>\n",
       "      <td>False</td>\n",
       "    </tr>\n",
       "  </tbody>\n",
       "</table>\n",
       "</div>"
      ],
      "text/plain": [
       "   hypertension  cholesterol  asthma  cancer  diabetes  heart_attack  anxiety  \\\n",
       "0         False        False   False    True     False         False    False   \n",
       "1          True        False   False   False     False         False    False   \n",
       "2         False         True   False   False     False         False    False   \n",
       "3         False        False   False   False     False         False    False   \n",
       "4          True        False   False   False     False         False    False   \n",
       "\n",
       "   depression  arthritis  dementia  stroke  heart disease  failing kidneys  \\\n",
       "0       False      False     False   False          False            False   \n",
       "1       False      False     False   False          False            False   \n",
       "2       False      False     False   False          False            False   \n",
       "3       False      False     False   False          False            False   \n",
       "4        True       True     False   False          False            False   \n",
       "\n",
       "   hepatitis  liver condition  \n",
       "0      False            False  \n",
       "1      False            False  \n",
       "2      False            False  \n",
       "3      False            False  \n",
       "4      False            False  "
      ]
     },
     "execution_count": 10,
     "metadata": {},
     "output_type": "execute_result"
    }
   ],
   "source": [
    "data = data.replace(1, True)\n",
    "data = data.replace(2, False)\n",
    "\n",
    "data.head()"
   ]
  },
  {
   "cell_type": "markdown",
   "metadata": {
    "id": "VmDHvQ4f7P_I"
   },
   "source": [
    "## Frequent patterns mining"
   ]
  },
  {
   "cell_type": "markdown",
   "metadata": {
    "id": "scvqSINy7VbI"
   },
   "source": [
    "### Finding frequent itemsets with Apriori algorithm with *min_sup=0.1*"
   ]
  },
  {
   "cell_type": "code",
   "execution_count": 11,
   "metadata": {
    "colab": {
     "base_uri": "https://localhost:8080/"
    },
    "id": "leR3E-Ves0ji",
    "outputId": "902b33e9-2b64-4e5f-d939-96e740ef0ae5"
   },
   "outputs": [
    {
     "name": "stdout",
     "output_type": "stream",
     "text": [
      "    support        itemsets  length\n",
      "0  0.640428  (hypertension)       1\n",
      "1  0.559194   (cholesterol)       1\n",
      "2  0.324937        (asthma)       1\n",
      "3  0.379723        (cancer)       1\n",
      "4  0.366499      (diabetes)       1\n",
      "     support                      itemsets  length\n",
      "14  0.387280   (cholesterol, hypertension)       2\n",
      "15  0.212846        (asthma, hypertension)       2\n",
      "16  0.249370        (cancer, hypertension)       2\n",
      "17  0.263224      (diabetes, hypertension)       2\n",
      "18  0.196474  (heart_attack, hypertension)       2\n",
      "     support                                   itemsets  length\n",
      "65  0.132242        (cholesterol, asthma, hypertension)       3\n",
      "66  0.152393        (cholesterol, cancer, hypertension)       3\n",
      "67  0.178212      (diabetes, cholesterol, hypertension)       3\n",
      "68  0.133501  (cholesterol, heart_attack, hypertension)       3\n",
      "69  0.154912       (cholesterol, anxiety, hypertension)       3\n"
     ]
    }
   ],
   "source": [
    "frequent_itemsets = apriori(data, min_support=0.1, use_colnames=True)\n",
    "frequent_itemsets['length'] = frequent_itemsets['itemsets'].apply(lambda x: len(x))\n",
    "\n",
    "print(frequent_itemsets.head())\n",
    "print(frequent_itemsets[frequent_itemsets['length'] > 1].head())\n",
    "print(frequent_itemsets[frequent_itemsets['length'] > 2].head())"
   ]
  },
  {
   "cell_type": "markdown",
   "metadata": {
    "id": "xxxuv8B_C04s"
   },
   "source": [
    "I can see that hypertension is occuring in every itemset (that has more than one element) printed above. Probably beacause hypertension is a common condition."
   ]
  },
  {
   "cell_type": "markdown",
   "metadata": {
    "id": "n_Y53sUH7qJP"
   },
   "source": [
    "### Finding and evaluating association rules"
   ]
  },
  {
   "cell_type": "markdown",
   "metadata": {
    "id": "CiprEfvxJ4ly"
   },
   "source": [
    "Using frequent itemsets I generated association rules. Firstly let see values of *support*, *confidence* and *lift*."
   ]
  },
  {
   "cell_type": "code",
   "execution_count": 12,
   "metadata": {
    "colab": {
     "base_uri": "https://localhost:8080/",
     "height": 206
    },
    "id": "uS5-5nGCKGNH",
    "outputId": "162db4ee-e304-44f7-fec0-7cc614c5f5c5"
   },
   "outputs": [
    {
     "data": {
      "text/html": [
       "<div>\n",
       "<style scoped>\n",
       "    .dataframe tbody tr th:only-of-type {\n",
       "        vertical-align: middle;\n",
       "    }\n",
       "\n",
       "    .dataframe tbody tr th {\n",
       "        vertical-align: top;\n",
       "    }\n",
       "\n",
       "    .dataframe thead th {\n",
       "        text-align: right;\n",
       "    }\n",
       "</style>\n",
       "<table border=\"1\" class=\"dataframe\">\n",
       "  <thead>\n",
       "    <tr style=\"text-align: right;\">\n",
       "      <th></th>\n",
       "      <th>antecedents</th>\n",
       "      <th>consequents</th>\n",
       "      <th>antecedent support</th>\n",
       "      <th>consequent support</th>\n",
       "      <th>support</th>\n",
       "      <th>confidence</th>\n",
       "      <th>lift</th>\n",
       "    </tr>\n",
       "  </thead>\n",
       "  <tbody>\n",
       "    <tr>\n",
       "      <th>28</th>\n",
       "      <td>(diabetes, arthritis, hypertension)</td>\n",
       "      <td>(cholesterol)</td>\n",
       "      <td>0.154912</td>\n",
       "      <td>0.559194</td>\n",
       "      <td>0.110202</td>\n",
       "      <td>0.711382</td>\n",
       "      <td>1.272156</td>\n",
       "    </tr>\n",
       "    <tr>\n",
       "      <th>25</th>\n",
       "      <td>(diabetes, depression)</td>\n",
       "      <td>(cholesterol)</td>\n",
       "      <td>0.156801</td>\n",
       "      <td>0.559194</td>\n",
       "      <td>0.111461</td>\n",
       "      <td>0.710843</td>\n",
       "      <td>1.271193</td>\n",
       "    </tr>\n",
       "    <tr>\n",
       "      <th>27</th>\n",
       "      <td>(diabetes, cholesterol, arthritis)</td>\n",
       "      <td>(hypertension)</td>\n",
       "      <td>0.139169</td>\n",
       "      <td>0.640428</td>\n",
       "      <td>0.110202</td>\n",
       "      <td>0.791855</td>\n",
       "      <td>1.236446</td>\n",
       "    </tr>\n",
       "    <tr>\n",
       "      <th>12</th>\n",
       "      <td>(cholesterol, stroke)</td>\n",
       "      <td>(hypertension)</td>\n",
       "      <td>0.157431</td>\n",
       "      <td>0.640428</td>\n",
       "      <td>0.122166</td>\n",
       "      <td>0.776000</td>\n",
       "      <td>1.211689</td>\n",
       "    </tr>\n",
       "    <tr>\n",
       "      <th>19</th>\n",
       "      <td>(diabetes, heart disease)</td>\n",
       "      <td>(hypertension)</td>\n",
       "      <td>0.137280</td>\n",
       "      <td>0.640428</td>\n",
       "      <td>0.106423</td>\n",
       "      <td>0.775229</td>\n",
       "      <td>1.210486</td>\n",
       "    </tr>\n",
       "  </tbody>\n",
       "</table>\n",
       "</div>"
      ],
      "text/plain": [
       "                            antecedents     consequents  antecedent support  \\\n",
       "28  (diabetes, arthritis, hypertension)   (cholesterol)            0.154912   \n",
       "25               (diabetes, depression)   (cholesterol)            0.156801   \n",
       "27   (diabetes, cholesterol, arthritis)  (hypertension)            0.139169   \n",
       "12                (cholesterol, stroke)  (hypertension)            0.157431   \n",
       "19            (diabetes, heart disease)  (hypertension)            0.137280   \n",
       "\n",
       "    consequent support   support  confidence      lift  \n",
       "28            0.559194  0.110202    0.711382  1.272156  \n",
       "25            0.559194  0.111461    0.710843  1.271193  \n",
       "27            0.640428  0.110202    0.791855  1.236446  \n",
       "12            0.640428  0.122166    0.776000  1.211689  \n",
       "19            0.640428  0.106423    0.775229  1.210486  "
      ]
     },
     "execution_count": 12,
     "metadata": {},
     "output_type": "execute_result"
    }
   ],
   "source": [
    "# min_conf = 0.7\n",
    "rules = association_rules(frequent_itemsets, metric=\"confidence\", min_threshold=0.7)\n",
    "\n",
    "# dropping leverage and conviction metrics\n",
    "rules = rules.drop(['leverage',\t'conviction'], axis=1)\n",
    "\n",
    "rules.sort_values(\"lift\", ascending=False).head()"
   ]
  },
  {
   "cell_type": "markdown",
   "metadata": {
    "id": "HJ-JyHv-ZILz"
   },
   "source": [
    "Analyzing *lift* value I can conclude that these rules' itemsets are positively correlated."
   ]
  },
  {
   "cell_type": "markdown",
   "metadata": {
    "id": "12v4zNYPKcu-"
   },
   "source": [
    "As in population not many people have a lot of conditions, I have to take into consideration influence of null-transactions - the transactions that do not contain any of the itemsets being examined. I picked two null-invariant measures that were recommended during lectures - *Kulczynski* and *Imbalance Ratio*."
   ]
  },
  {
   "cell_type": "code",
   "execution_count": 13,
   "metadata": {
    "colab": {
     "base_uri": "https://localhost:8080/",
     "height": 206
    },
    "id": "D9YzcDO7tA4K",
    "outputId": "fee87fa9-3cc9-48bc-f7e6-8f593da1c7bc"
   },
   "outputs": [
    {
     "data": {
      "text/html": [
       "<div>\n",
       "<style scoped>\n",
       "    .dataframe tbody tr th:only-of-type {\n",
       "        vertical-align: middle;\n",
       "    }\n",
       "\n",
       "    .dataframe tbody tr th {\n",
       "        vertical-align: top;\n",
       "    }\n",
       "\n",
       "    .dataframe thead th {\n",
       "        text-align: right;\n",
       "    }\n",
       "</style>\n",
       "<table border=\"1\" class=\"dataframe\">\n",
       "  <thead>\n",
       "    <tr style=\"text-align: right;\">\n",
       "      <th></th>\n",
       "      <th>antecedents</th>\n",
       "      <th>consequents</th>\n",
       "      <th>antecedent support</th>\n",
       "      <th>consequent support</th>\n",
       "      <th>support</th>\n",
       "      <th>confidence</th>\n",
       "      <th>lift</th>\n",
       "      <th>Kulczynski</th>\n",
       "      <th>Imbalance ratio</th>\n",
       "    </tr>\n",
       "  </thead>\n",
       "  <tbody>\n",
       "    <tr>\n",
       "      <th>28</th>\n",
       "      <td>(diabetes, arthritis, hypertension)</td>\n",
       "      <td>(cholesterol)</td>\n",
       "      <td>0.154912</td>\n",
       "      <td>0.559194</td>\n",
       "      <td>0.110202</td>\n",
       "      <td>0.711382</td>\n",
       "      <td>1.272156</td>\n",
       "      <td>0.454227</td>\n",
       "      <td>0.669447</td>\n",
       "    </tr>\n",
       "    <tr>\n",
       "      <th>25</th>\n",
       "      <td>(diabetes, depression)</td>\n",
       "      <td>(cholesterol)</td>\n",
       "      <td>0.156801</td>\n",
       "      <td>0.559194</td>\n",
       "      <td>0.111461</td>\n",
       "      <td>0.710843</td>\n",
       "      <td>1.271193</td>\n",
       "      <td>0.455084</td>\n",
       "      <td>0.665625</td>\n",
       "    </tr>\n",
       "    <tr>\n",
       "      <th>27</th>\n",
       "      <td>(diabetes, cholesterol, arthritis)</td>\n",
       "      <td>(hypertension)</td>\n",
       "      <td>0.139169</td>\n",
       "      <td>0.640428</td>\n",
       "      <td>0.110202</td>\n",
       "      <td>0.791855</td>\n",
       "      <td>1.236446</td>\n",
       "      <td>0.481965</td>\n",
       "      <td>0.748824</td>\n",
       "    </tr>\n",
       "    <tr>\n",
       "      <th>12</th>\n",
       "      <td>(cholesterol, stroke)</td>\n",
       "      <td>(hypertension)</td>\n",
       "      <td>0.157431</td>\n",
       "      <td>0.640428</td>\n",
       "      <td>0.122166</td>\n",
       "      <td>0.776000</td>\n",
       "      <td>1.211689</td>\n",
       "      <td>0.483379</td>\n",
       "      <td>0.714818</td>\n",
       "    </tr>\n",
       "    <tr>\n",
       "      <th>19</th>\n",
       "      <td>(diabetes, heart disease)</td>\n",
       "      <td>(hypertension)</td>\n",
       "      <td>0.137280</td>\n",
       "      <td>0.640428</td>\n",
       "      <td>0.106423</td>\n",
       "      <td>0.775229</td>\n",
       "      <td>1.210486</td>\n",
       "      <td>0.470702</td>\n",
       "      <td>0.749531</td>\n",
       "    </tr>\n",
       "  </tbody>\n",
       "</table>\n",
       "</div>"
      ],
      "text/plain": [
       "                            antecedents     consequents  antecedent support  \\\n",
       "28  (diabetes, arthritis, hypertension)   (cholesterol)            0.154912   \n",
       "25               (diabetes, depression)   (cholesterol)            0.156801   \n",
       "27   (diabetes, cholesterol, arthritis)  (hypertension)            0.139169   \n",
       "12                (cholesterol, stroke)  (hypertension)            0.157431   \n",
       "19            (diabetes, heart disease)  (hypertension)            0.137280   \n",
       "\n",
       "    consequent support   support  confidence      lift  Kulczynski  \\\n",
       "28            0.559194  0.110202    0.711382  1.272156    0.454227   \n",
       "25            0.559194  0.111461    0.710843  1.271193    0.455084   \n",
       "27            0.640428  0.110202    0.791855  1.236446    0.481965   \n",
       "12            0.640428  0.122166    0.776000  1.211689    0.483379   \n",
       "19            0.640428  0.106423    0.775229  1.210486    0.470702   \n",
       "\n",
       "    Imbalance ratio  \n",
       "28         0.669447  \n",
       "25         0.665625  \n",
       "27         0.748824  \n",
       "12         0.714818  \n",
       "19         0.749531  "
      ]
     },
     "execution_count": 13,
     "metadata": {},
     "output_type": "execute_result"
    }
   ],
   "source": [
    "# adding Kulczynski and IR metrics\n",
    "rules.loc[:, 'Kulczynski'] = 0.5*(rules['support']/rules['antecedent support']+rules['support']/rules['consequent support'])\n",
    "rules.loc[:, 'Imbalance ratio'] = (rules['antecedent support']-rules['consequent support']).abs()/(rules['antecedent support']+rules['consequent support']-rules['support'])\n",
    "\n",
    "rules.sort_values(\"lift\", ascending=False).head()"
   ]
  },
  {
   "cell_type": "markdown",
   "metadata": {
    "id": "hDh_Vsgl2Ali"
   },
   "source": [
    "After analyzing Kulczynski and IR I can conclude that these rules' itemsets are neutral (*Kulc* values close to 0.5) and imbalanced (relatively high *IR*). "
   ]
  },
  {
   "cell_type": "markdown",
   "metadata": {
    "id": "McVPjw9x0N48"
   },
   "source": [
    "Overall these rules aren't very interesting. Hypertension and cholesterol are frequent in the dataset and even though they are more likely to occur if person also has other conditions listed above, it is not surprising that if someone has several conditions then he/she is also more likely to have conditions that occur frequently in population.  "
   ]
  }
 ],
 "metadata": {
  "colab": {
   "provenance": []
  },
  "kernelspec": {
   "display_name": "Python 3 (ipykernel)",
   "language": "python",
   "name": "python3"
  },
  "language_info": {
   "codemirror_mode": {
    "name": "ipython",
    "version": 3
   },
   "file_extension": ".py",
   "mimetype": "text/x-python",
   "name": "python",
   "nbconvert_exporter": "python",
   "pygments_lexer": "ipython3",
   "version": "3.10.6"
  }
 },
 "nbformat": 4,
 "nbformat_minor": 1
}
